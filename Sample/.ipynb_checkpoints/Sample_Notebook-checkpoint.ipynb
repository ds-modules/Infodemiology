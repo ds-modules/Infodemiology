{
 "cells": [
  {
   "cell_type": "code",
   "execution_count": 1,
   "metadata": {},
   "outputs": [],
   "source": [
    "#import libraries\n",
    "import pandas as pd\n",
    "import numpy as np\n",
    "from datascience import *\n",
    "import seaborn as sns\n",
    "import matplotlib.pyplot as plt\n",
    "%matplotlib inline\n",
    "plt.style.use(\"fivethirtyeight\")"
   ]
  },
  {
   "cell_type": "markdown",
   "metadata": {},
   "source": [
    "# Infodemiology: Food Banks in the U.S\n",
    "by: ..."
   ]
  },
  {
   "cell_type": "code",
   "execution_count": 4,
   "metadata": {},
   "outputs": [],
   "source": [
    "#double click on the image to see how to insert your own!"
   ]
  },
  {
   "cell_type": "markdown",
   "metadata": {},
   "source": [
    "<img src=\"images/foodbank.png\" width=\"30%\">"
   ]
  },
  {
   "cell_type": "markdown",
   "metadata": {},
   "source": [
    "## Table of Contents\n",
    "\n",
    "1. [Abstract](#section-1)<br>\n",
    "2. [Background](#section-2)<br>\n",
    "3. [Research Question and Hypothesis](#section-3)<br>\n",
    "3. [Methodology](#section-4)<br>\n",
    "4. [The Data](#section-5)<br>\n",
    "5. [Results](#section-6)<br>\n",
    "7. [Notes](#section-7)<br>"
   ]
  },
  {
   "cell_type": "markdown",
   "metadata": {},
   "source": [
    "### Abstract <a id='section-1'>\n",
    "Give a brief overview of your preliminary findings and what the notebook will be about. Include the **search terms** you will be focusing on. "
   ]
  },
  {
   "cell_type": "markdown",
   "metadata": {},
   "source": [
    "### Background  <a id='section-2'>\n",
    "This can have literature review, articles, etc."
   ]
  },
  {
   "cell_type": "markdown",
   "metadata": {},
   "source": [
    "### Research Question and Hypothesis <a id='section-3'>\n",
    "What is the question and explain briefly **why** you chose the question."
   ]
  },
  {
   "cell_type": "markdown",
   "metadata": {},
   "source": [
    "### Methodology <a id='section-4'>\n",
    "Explain the relative search volume, the process of finding the sample of top queries, choosing terms, etc."
   ]
  },
  {
   "cell_type": "markdown",
   "metadata": {},
   "source": [
    "### The Data <a id='section-5'>\n",
    "Talk about the data tables you will be using. Explain what a relative search volume is etc."
   ]
  },
  {
   "cell_type": "code",
   "execution_count": 2,
   "metadata": {},
   "outputs": [],
   "source": [
    "#Upload data\n",
    "relative_search_volumes = pd.read_csv(\"data/food_banks_rel_search.csv\")\n",
    "websites = pd.read_csv(\"data/food_banks_search.csv\")\n",
    "top_queries = pd.read_csv(\"data/food_banks_top_queries.csv\")"
   ]
  },
  {
   "cell_type": "code",
   "execution_count": 3,
   "metadata": {},
   "outputs": [
    {
     "data": {
      "text/html": [
       "<div>\n",
       "<style scoped>\n",
       "    .dataframe tbody tr th:only-of-type {\n",
       "        vertical-align: middle;\n",
       "    }\n",
       "\n",
       "    .dataframe tbody tr th {\n",
       "        vertical-align: top;\n",
       "    }\n",
       "\n",
       "    .dataframe thead th {\n",
       "        text-align: right;\n",
       "    }\n",
       "</style>\n",
       "<table border=\"1\" class=\"dataframe\">\n",
       "  <thead>\n",
       "    <tr style=\"text-align: right;\">\n",
       "      <th></th>\n",
       "      <th>initial_search_query</th>\n",
       "      <th>query</th>\n",
       "      <th>position</th>\n",
       "      <th>link</th>\n",
       "      <th>displayLink</th>\n",
       "      <th>site_probability</th>\n",
       "    </tr>\n",
       "  </thead>\n",
       "  <tbody>\n",
       "    <tr>\n",
       "      <th>0</th>\n",
       "      <td>food banks</td>\n",
       "      <td>banks near me</td>\n",
       "      <td>1</td>\n",
       "      <td>https://www.pnc.com/en/personal-banking.html</td>\n",
       "      <td>www.pnc.com</td>\n",
       "      <td>0.023195</td>\n",
       "    </tr>\n",
       "    <tr>\n",
       "      <th>1</th>\n",
       "      <td>food banks</td>\n",
       "      <td>banks near me</td>\n",
       "      <td>2</td>\n",
       "      <td>https://www.firstcitizens.com/</td>\n",
       "      <td>www.firstcitizens.com</td>\n",
       "      <td>0.013254</td>\n",
       "    </tr>\n",
       "    <tr>\n",
       "      <th>2</th>\n",
       "      <td>food banks</td>\n",
       "      <td>banks near me</td>\n",
       "      <td>3</td>\n",
       "      <td>https://www.suntrust.com/</td>\n",
       "      <td>www.suntrust.com</td>\n",
       "      <td>0.009941</td>\n",
       "    </tr>\n",
       "    <tr>\n",
       "      <th>3</th>\n",
       "      <td>food banks</td>\n",
       "      <td>banks near me</td>\n",
       "      <td>4</td>\n",
       "      <td>https://locator.chase.com/</td>\n",
       "      <td>locator.chase.com</td>\n",
       "      <td>0.005302</td>\n",
       "    </tr>\n",
       "    <tr>\n",
       "      <th>4</th>\n",
       "      <td>food banks</td>\n",
       "      <td>banks near me</td>\n",
       "      <td>5</td>\n",
       "      <td>https://www.usbank.com/index.html</td>\n",
       "      <td>www.usbank.com</td>\n",
       "      <td>0.004639</td>\n",
       "    </tr>\n",
       "    <tr>\n",
       "      <th>...</th>\n",
       "      <td>...</td>\n",
       "      <td>...</td>\n",
       "      <td>...</td>\n",
       "      <td>...</td>\n",
       "      <td>...</td>\n",
       "      <td>...</td>\n",
       "    </tr>\n",
       "    <tr>\n",
       "      <th>245</th>\n",
       "      <td>food banks</td>\n",
       "      <td>food pantries near me</td>\n",
       "      <td>6</td>\n",
       "      <td>https://www.lafoodbank.org/find-food/pantry-lo...</td>\n",
       "      <td>www.lafoodbank.org</td>\n",
       "      <td>0.000195</td>\n",
       "    </tr>\n",
       "    <tr>\n",
       "      <th>246</th>\n",
       "      <td>food banks</td>\n",
       "      <td>food pantries near me</td>\n",
       "      <td>7</td>\n",
       "      <td>http://www.hungercoalition.org/food-pantries</td>\n",
       "      <td>www.hungercoalition.org</td>\n",
       "      <td>0.000156</td>\n",
       "    </tr>\n",
       "    <tr>\n",
       "      <th>247</th>\n",
       "      <td>food banks</td>\n",
       "      <td>food pantries near me</td>\n",
       "      <td>8</td>\n",
       "      <td>https://www.licares.org/find-help/food-locator/</td>\n",
       "      <td>www.licares.org</td>\n",
       "      <td>0.000117</td>\n",
       "    </tr>\n",
       "    <tr>\n",
       "      <th>248</th>\n",
       "      <td>food banks</td>\n",
       "      <td>food pantries near me</td>\n",
       "      <td>9</td>\n",
       "      <td>https://www.foodbanknyc.org/get-help/</td>\n",
       "      <td>www.foodbanknyc.org</td>\n",
       "      <td>0.000078</td>\n",
       "    </tr>\n",
       "    <tr>\n",
       "      <th>249</th>\n",
       "      <td>food banks</td>\n",
       "      <td>food pantries near me</td>\n",
       "      <td>10</td>\n",
       "      <td>https://www.feedmorewny.org/programs-services/...</td>\n",
       "      <td>www.feedmorewny.org</td>\n",
       "      <td>0.000039</td>\n",
       "    </tr>\n",
       "  </tbody>\n",
       "</table>\n",
       "<p>250 rows × 6 columns</p>\n",
       "</div>"
      ],
      "text/plain": [
       "    initial_search_query                  query  position  \\\n",
       "0             food banks          banks near me         1   \n",
       "1             food banks          banks near me         2   \n",
       "2             food banks          banks near me         3   \n",
       "3             food banks          banks near me         4   \n",
       "4             food banks          banks near me         5   \n",
       "..                   ...                    ...       ...   \n",
       "245           food banks  food pantries near me         6   \n",
       "246           food banks  food pantries near me         7   \n",
       "247           food banks  food pantries near me         8   \n",
       "248           food banks  food pantries near me         9   \n",
       "249           food banks  food pantries near me        10   \n",
       "\n",
       "                                                  link  \\\n",
       "0         https://www.pnc.com/en/personal-banking.html   \n",
       "1                       https://www.firstcitizens.com/   \n",
       "2                            https://www.suntrust.com/   \n",
       "3                           https://locator.chase.com/   \n",
       "4                    https://www.usbank.com/index.html   \n",
       "..                                                 ...   \n",
       "245  https://www.lafoodbank.org/find-food/pantry-lo...   \n",
       "246       http://www.hungercoalition.org/food-pantries   \n",
       "247    https://www.licares.org/find-help/food-locator/   \n",
       "248              https://www.foodbanknyc.org/get-help/   \n",
       "249  https://www.feedmorewny.org/programs-services/...   \n",
       "\n",
       "                 displayLink  site_probability  \n",
       "0                www.pnc.com          0.023195  \n",
       "1      www.firstcitizens.com          0.013254  \n",
       "2           www.suntrust.com          0.009941  \n",
       "3          locator.chase.com          0.005302  \n",
       "4             www.usbank.com          0.004639  \n",
       "..                       ...               ...  \n",
       "245       www.lafoodbank.org          0.000195  \n",
       "246  www.hungercoalition.org          0.000156  \n",
       "247          www.licares.org          0.000117  \n",
       "248      www.foodbanknyc.org          0.000078  \n",
       "249      www.feedmorewny.org          0.000039  \n",
       "\n",
       "[250 rows x 6 columns]"
      ]
     },
     "execution_count": 3,
     "metadata": {},
     "output_type": "execute_result"
    }
   ],
   "source": [
    "websites"
   ]
  },
  {
   "cell_type": "markdown",
   "metadata": {},
   "source": [
    "### Results <a id='section-6'>\n",
    "This includes the visualizations and relevant findings that aim to answer the research question."
   ]
  },
  {
   "cell_type": "markdown",
   "metadata": {},
   "source": [
    "### Notes\n",
    "Record your research process, challenges, documentation, any interesting information."
   ]
  },
  {
   "cell_type": "code",
   "execution_count": null,
   "metadata": {},
   "outputs": [],
   "source": []
  },
  {
   "cell_type": "code",
   "execution_count": null,
   "metadata": {},
   "outputs": [],
   "source": []
  },
  {
   "cell_type": "code",
   "execution_count": null,
   "metadata": {},
   "outputs": [],
   "source": []
  },
  {
   "cell_type": "code",
   "execution_count": null,
   "metadata": {},
   "outputs": [],
   "source": []
  }
 ],
 "metadata": {
  "kernelspec": {
   "display_name": "Python 3",
   "language": "python",
   "name": "python3"
  },
  "language_info": {
   "codemirror_mode": {
    "name": "ipython",
    "version": 3
   },
   "file_extension": ".py",
   "mimetype": "text/x-python",
   "name": "python",
   "nbconvert_exporter": "python",
   "pygments_lexer": "ipython3",
   "version": "3.8.6"
  }
 },
 "nbformat": 4,
 "nbformat_minor": 4
}
